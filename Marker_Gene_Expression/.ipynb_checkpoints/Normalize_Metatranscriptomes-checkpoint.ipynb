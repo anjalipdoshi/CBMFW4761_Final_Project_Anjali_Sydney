{
 "cells": [
  {
   "cell_type": "code",
   "execution_count": 6,
   "metadata": {},
   "outputs": [],
   "source": [
    "import pandas as pd"
   ]
  },
  {
   "cell_type": "code",
   "execution_count": 7,
   "metadata": {},
   "outputs": [],
   "source": [
    "metagenome = 'SRX247406'\n",
    "metatranscriptome = 'SRR769418'"
   ]
  },
  {
   "cell_type": "code",
   "execution_count": 9,
   "metadata": {},
   "outputs": [],
   "source": [
    "expression_matrix = pd.read_csv(metatranscriptome + '_expression_matrix.txt',header=0,sep='\\t',index_col=0)\n",
    "profile = pd.read_csv(metagenome + '_profile.txt',header=2,sep='\\t')\n",
    "profile.columns = ['OTU_full','genome_abundance']"
   ]
  },
  {
   "cell_type": "code",
   "execution_count": 10,
   "metadata": {},
   "outputs": [],
   "source": [
    "list_for_index = []\n",
    "for entry in profile['OTU_full']:\n",
    "    if entry != '-1':\n",
    "        new = entry.split('[')[1]\n",
    "        new = new.split(']')[0]\n",
    "        list_for_index.append(new)\n",
    "    else:\n",
    "        list_for_index.append('-1')\n",
    "\n",
    "profile.index = list_for_index"
   ]
  },
  {
   "cell_type": "code",
   "execution_count": 12,
   "metadata": {},
   "outputs": [],
   "source": [
    "merged = expression_matrix.join(profile['genome_abundance'], lsuffix = 'l',rsuffix = 'r', how = 'left')"
   ]
  },
  {
   "cell_type": "code",
   "execution_count": 13,
   "metadata": {},
   "outputs": [],
   "source": [
    "for column in merged.columns:\n",
    "    if column != 'phylum':\n",
    "        expression_matrix[column] = merged[column]/merged['genome_abundance']\n",
    "    else:\n",
    "        expression_matrix[column] = merged[column]"
   ]
  },
  {
   "cell_type": "code",
   "execution_count": 14,
   "metadata": {},
   "outputs": [],
   "source": [
    "expression_matrix = expression_matrix[expression_matrix['genome_abundance']>0]\n",
    "expression_matrix = expression_matrix.drop('genome_abundance',axis=1)"
   ]
  },
  {
   "cell_type": "code",
   "execution_count": 16,
   "metadata": {},
   "outputs": [],
   "source": [
    "expression_matrix.to_csv(metatranscriptome + '_normalized_matrix.txt',sep='\\t')\n",
    "\n"
   ]
  },
  {
   "cell_type": "code",
   "execution_count": null,
   "metadata": {},
   "outputs": [],
   "source": []
  }
 ],
 "metadata": {
  "kernelspec": {
   "display_name": "Python 2",
   "language": "python",
   "name": "python2"
  },
  "language_info": {
   "codemirror_mode": {
    "name": "ipython",
    "version": 2
   },
   "file_extension": ".py",
   "mimetype": "text/x-python",
   "name": "python",
   "nbconvert_exporter": "python",
   "pygments_lexer": "ipython2",
   "version": "2.7.15"
  }
 },
 "nbformat": 4,
 "nbformat_minor": 2
}
