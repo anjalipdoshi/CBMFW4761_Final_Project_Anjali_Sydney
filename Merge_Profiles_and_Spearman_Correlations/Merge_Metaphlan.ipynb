{
 "cells": [
  {
   "cell_type": "code",
   "execution_count": 1,
   "metadata": {},
   "outputs": [],
   "source": [
    "import pandas as pd\n",
    "import numpy as np\n",
    "import matplotlib"
   ]
  },
  {
   "cell_type": "code",
   "execution_count": 2,
   "metadata": {},
   "outputs": [],
   "source": [
    "transcriptomes = ['SRR769418','SRR769429','SRR769404','SRR769401','SRR769395','SRR769413','SRR769405','SRR769416']\n",
    "genomes = ['SRX247406','SRX247403','SRX247396','SRX247394','SRX247387','SRX247382','SRX247381','SRX247376']"
   ]
  },
  {
   "cell_type": "code",
   "execution_count": 3,
   "metadata": {},
   "outputs": [],
   "source": [
    "for x in range(0,len(transcriptomes)):\n",
    "    transcriptome = pd.read_csv('metaphlan_transcriptomes/' + transcriptomes[x]+'_metaphlan.txt',sep='\\t',index_col=0)\n",
    "    transcriptome.columns = ['transcriptome']\n",
    "    genome = pd.read_csv('metaphlan_genomic_output/'+genomes[x]+'_kneaddata_metaphlan.txt',sep='\\t',index_col=0)\n",
    "    genome.columns = ['genome']\n",
    "    transcriptome['include']=np.zeros(len(transcriptome.index))\n",
    "    for i in range(0,len(transcriptome.index)):\n",
    "        if 's__' in transcriptome.index[i] and 't__' not in transcriptome.index[i]:\n",
    "            transcriptome.iloc[i,1] = True\n",
    "        else:\n",
    "            transcriptome.iloc[i,1] = False\n",
    "    genome['include']=np.zeros(len(genome.index))\n",
    "    for i in range(0,len(genome.index)):\n",
    "        if 's__' in genome.index[i] and 't__' not in genome.index[i]:\n",
    "            genome.iloc[i,1] = True\n",
    "        else:\n",
    "            genome.iloc[i,1] = False\n",
    "    transcriptome_species = transcriptome[transcriptome['include']].drop('include',axis=1)\n",
    "    genome_species = genome[genome['include']].drop('include',axis=1)\n",
    "    combined = genome_species.merge(transcriptome_species,left_index=True,right_index=True,how='outer')\n",
    "    combined = combined.fillna(0)\n",
    "    temp = []\n",
    "    for i in range(0,len(combined.index)):\n",
    "        temp.append(combined.index[i].split('|')[6])\n",
    "    combined.index = temp\n",
    "    combined.to_csv(transcriptomes[x] + '_' + genomes[x] + '_metaphlan.txt',sep='\\t')\n",
    "    "
   ]
  },
  {
   "cell_type": "code",
   "execution_count": null,
   "metadata": {},
   "outputs": [],
   "source": []
  }
 ],
 "metadata": {
  "kernelspec": {
   "display_name": "Python 2",
   "language": "python",
   "name": "python2"
  },
  "language_info": {
   "codemirror_mode": {
    "name": "ipython",
    "version": 2
   },
   "file_extension": ".py",
   "mimetype": "text/x-python",
   "name": "python",
   "nbconvert_exporter": "python",
   "pygments_lexer": "ipython2",
   "version": "2.7.15"
  }
 },
 "nbformat": 4,
 "nbformat_minor": 2
}
