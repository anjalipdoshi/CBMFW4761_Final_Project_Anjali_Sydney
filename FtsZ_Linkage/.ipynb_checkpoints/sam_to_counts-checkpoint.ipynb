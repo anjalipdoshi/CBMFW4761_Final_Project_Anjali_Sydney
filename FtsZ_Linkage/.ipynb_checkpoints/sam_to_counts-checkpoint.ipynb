{
 "cells": [
  {
   "cell_type": "markdown",
   "metadata": {},
   "source": [
    "To try to add ftsZ to mOTUs linkage groups, we used ftsZ orthologs as a reference for an mOTUs profile (within the MOCAT implementation). To do this, we had to replace the COG0099 file with ftsZ ortholog sequences. The output of the profiling is a bam file, which we converted to a sam file and used below to extract counts of each ortholog."
   ]
  },
  {
   "cell_type": "code",
   "execution_count": 1,
   "metadata": {},
   "outputs": [],
   "source": [
    "sam = open('filtered.COG0099.sam')\n",
    "output = open('simulated_87_COG0099_counts.txt','w')\n",
    "gene_to_count = {}\n",
    "for line in sam:\n",
    "    gene = line.split('\\t')[2]\n",
    "    if gene in gene_to_count:\n",
    "        gene_to_count[gene] += 1\n",
    "    else:\n",
    "        gene_to_count[gene] = 1"
   ]
  },
  {
   "cell_type": "code",
   "execution_count": 2,
   "metadata": {},
   "outputs": [],
   "source": [
    "for gene in gene_to_count:\n",
    "    output.write(gene + '\\t' + str(gene_to_count[gene]) + '\\n')\n"
   ]
  },
  {
   "cell_type": "code",
   "execution_count": null,
   "metadata": {},
   "outputs": [],
   "source": []
  }
 ],
 "metadata": {
  "kernelspec": {
   "display_name": "Python 2",
   "language": "python",
   "name": "python2"
  },
  "language_info": {
   "codemirror_mode": {
    "name": "ipython",
    "version": 2
   },
   "file_extension": ".py",
   "mimetype": "text/x-python",
   "name": "python",
   "nbconvert_exporter": "python",
   "pygments_lexer": "ipython2",
   "version": "2.7.15"
  }
 },
 "nbformat": 4,
 "nbformat_minor": 2
}
